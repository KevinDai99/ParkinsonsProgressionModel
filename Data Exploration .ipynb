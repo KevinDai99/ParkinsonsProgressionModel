{
 "cells": [
  {
   "cell_type": "code",
   "execution_count": 2,
   "id": "62b77333",
   "metadata": {},
   "outputs": [],
   "source": [
    "import pandas as pd\n",
    "import numpy as np"
   ]
  },
  {
   "cell_type": "code",
   "execution_count": 3,
   "id": "cc4f3380",
   "metadata": {},
   "outputs": [],
   "source": [
    "df = pd.read_csv('Resources_Clean/visualization_protein.csv')"
   ]
  },
  {
   "cell_type": "code",
   "execution_count": 4,
   "id": "552ade6f",
   "metadata": {},
   "outputs": [
    {
     "data": {
      "text/html": [
       "<div>\n",
       "<style scoped>\n",
       "    .dataframe tbody tr th:only-of-type {\n",
       "        vertical-align: middle;\n",
       "    }\n",
       "\n",
       "    .dataframe tbody tr th {\n",
       "        vertical-align: top;\n",
       "    }\n",
       "\n",
       "    .dataframe thead th {\n",
       "        text-align: right;\n",
       "    }\n",
       "</style>\n",
       "<table border=\"1\" class=\"dataframe\">\n",
       "  <thead>\n",
       "    <tr style=\"text-align: right;\">\n",
       "      <th></th>\n",
       "      <th>visit_id</th>\n",
       "      <th>patient_id</th>\n",
       "      <th>visit_month</th>\n",
       "      <th>updrs_1</th>\n",
       "      <th>updrs_2</th>\n",
       "      <th>updrs_3</th>\n",
       "      <th>updrs_4</th>\n",
       "      <th>On</th>\n",
       "      <th>O00391</th>\n",
       "      <th>O00533</th>\n",
       "      <th>...</th>\n",
       "      <th>Q9HDC9</th>\n",
       "      <th>Q9NQ79</th>\n",
       "      <th>Q9NYU2</th>\n",
       "      <th>Q9UBR2</th>\n",
       "      <th>Q9UBX5</th>\n",
       "      <th>Q9UHG2</th>\n",
       "      <th>Q9UKV8</th>\n",
       "      <th>Q9UNU6</th>\n",
       "      <th>Q9Y646</th>\n",
       "      <th>Q9Y6R7</th>\n",
       "    </tr>\n",
       "  </thead>\n",
       "  <tbody>\n",
       "    <tr>\n",
       "      <th>0</th>\n",
       "      <td>55_0</td>\n",
       "      <td>55</td>\n",
       "      <td>0</td>\n",
       "      <td>10.0</td>\n",
       "      <td>6.0</td>\n",
       "      <td>15.0</td>\n",
       "      <td>0.0</td>\n",
       "      <td>0</td>\n",
       "      <td>11254.3</td>\n",
       "      <td>732430.0</td>\n",
       "      <td>...</td>\n",
       "      <td>365475.0</td>\n",
       "      <td>35528.0</td>\n",
       "      <td>97005.6</td>\n",
       "      <td>23122.5</td>\n",
       "      <td>60912.6</td>\n",
       "      <td>408698.0</td>\n",
       "      <td>0.0</td>\n",
       "      <td>29758.8</td>\n",
       "      <td>23833.7</td>\n",
       "      <td>18953.5</td>\n",
       "    </tr>\n",
       "    <tr>\n",
       "      <th>1</th>\n",
       "      <td>55_6</td>\n",
       "      <td>55</td>\n",
       "      <td>6</td>\n",
       "      <td>8.0</td>\n",
       "      <td>10.0</td>\n",
       "      <td>34.0</td>\n",
       "      <td>0.0</td>\n",
       "      <td>0</td>\n",
       "      <td>13163.6</td>\n",
       "      <td>630465.0</td>\n",
       "      <td>...</td>\n",
       "      <td>405676.0</td>\n",
       "      <td>30332.6</td>\n",
       "      <td>109174.0</td>\n",
       "      <td>23499.8</td>\n",
       "      <td>51655.8</td>\n",
       "      <td>369870.0</td>\n",
       "      <td>0.0</td>\n",
       "      <td>22935.2</td>\n",
       "      <td>17722.5</td>\n",
       "      <td>16642.7</td>\n",
       "    </tr>\n",
       "    <tr>\n",
       "      <th>2</th>\n",
       "      <td>55_12</td>\n",
       "      <td>55</td>\n",
       "      <td>12</td>\n",
       "      <td>10.0</td>\n",
       "      <td>10.0</td>\n",
       "      <td>41.0</td>\n",
       "      <td>0.0</td>\n",
       "      <td>1</td>\n",
       "      <td>15257.6</td>\n",
       "      <td>815083.0</td>\n",
       "      <td>...</td>\n",
       "      <td>303953.0</td>\n",
       "      <td>43026.2</td>\n",
       "      <td>114921.0</td>\n",
       "      <td>21860.1</td>\n",
       "      <td>61598.2</td>\n",
       "      <td>318553.0</td>\n",
       "      <td>65762.6</td>\n",
       "      <td>29193.4</td>\n",
       "      <td>28536.1</td>\n",
       "      <td>19290.9</td>\n",
       "    </tr>\n",
       "    <tr>\n",
       "      <th>3</th>\n",
       "      <td>55_36</td>\n",
       "      <td>55</td>\n",
       "      <td>36</td>\n",
       "      <td>17.0</td>\n",
       "      <td>18.0</td>\n",
       "      <td>51.0</td>\n",
       "      <td>0.0</td>\n",
       "      <td>1</td>\n",
       "      <td>13530.8</td>\n",
       "      <td>753832.0</td>\n",
       "      <td>...</td>\n",
       "      <td>303597.0</td>\n",
       "      <td>48188.4</td>\n",
       "      <td>109794.0</td>\n",
       "      <td>23930.6</td>\n",
       "      <td>70223.5</td>\n",
       "      <td>377550.0</td>\n",
       "      <td>74976.1</td>\n",
       "      <td>31732.6</td>\n",
       "      <td>22186.5</td>\n",
       "      <td>21717.1</td>\n",
       "    </tr>\n",
       "    <tr>\n",
       "      <th>4</th>\n",
       "      <td>942_6</td>\n",
       "      <td>942</td>\n",
       "      <td>6</td>\n",
       "      <td>8.0</td>\n",
       "      <td>2.0</td>\n",
       "      <td>21.0</td>\n",
       "      <td>0.0</td>\n",
       "      <td>0</td>\n",
       "      <td>11218.7</td>\n",
       "      <td>399518.0</td>\n",
       "      <td>...</td>\n",
       "      <td>253373.0</td>\n",
       "      <td>27431.8</td>\n",
       "      <td>93796.7</td>\n",
       "      <td>17450.9</td>\n",
       "      <td>21299.1</td>\n",
       "      <td>306621.0</td>\n",
       "      <td>82335.5</td>\n",
       "      <td>24018.7</td>\n",
       "      <td>18939.5</td>\n",
       "      <td>15251.2</td>\n",
       "    </tr>\n",
       "  </tbody>\n",
       "</table>\n",
       "<p>5 rows × 235 columns</p>\n",
       "</div>"
      ],
      "text/plain": [
       "  visit_id  patient_id  visit_month  updrs_1  updrs_2  updrs_3  updrs_4  On  \\\n",
       "0     55_0          55            0     10.0      6.0     15.0      0.0   0   \n",
       "1     55_6          55            6      8.0     10.0     34.0      0.0   0   \n",
       "2    55_12          55           12     10.0     10.0     41.0      0.0   1   \n",
       "3    55_36          55           36     17.0     18.0     51.0      0.0   1   \n",
       "4    942_6         942            6      8.0      2.0     21.0      0.0   0   \n",
       "\n",
       "    O00391    O00533  ...    Q9HDC9   Q9NQ79    Q9NYU2   Q9UBR2   Q9UBX5  \\\n",
       "0  11254.3  732430.0  ...  365475.0  35528.0   97005.6  23122.5  60912.6   \n",
       "1  13163.6  630465.0  ...  405676.0  30332.6  109174.0  23499.8  51655.8   \n",
       "2  15257.6  815083.0  ...  303953.0  43026.2  114921.0  21860.1  61598.2   \n",
       "3  13530.8  753832.0  ...  303597.0  48188.4  109794.0  23930.6  70223.5   \n",
       "4  11218.7  399518.0  ...  253373.0  27431.8   93796.7  17450.9  21299.1   \n",
       "\n",
       "     Q9UHG2   Q9UKV8   Q9UNU6   Q9Y646   Q9Y6R7  \n",
       "0  408698.0      0.0  29758.8  23833.7  18953.5  \n",
       "1  369870.0      0.0  22935.2  17722.5  16642.7  \n",
       "2  318553.0  65762.6  29193.4  28536.1  19290.9  \n",
       "3  377550.0  74976.1  31732.6  22186.5  21717.1  \n",
       "4  306621.0  82335.5  24018.7  18939.5  15251.2  \n",
       "\n",
       "[5 rows x 235 columns]"
      ]
     },
     "execution_count": 4,
     "metadata": {},
     "output_type": "execute_result"
    }
   ],
   "source": [
    "df.head()"
   ]
  },
  {
   "cell_type": "code",
   "execution_count": 5,
   "id": "9cb75194",
   "metadata": {},
   "outputs": [],
   "source": [
    "df['sum_score'] = df[df.filter(regex = 'updrs').columns].sum(axis = 1)\n",
    "df.drop(df.filter(regex = 'updrs').columns, axis = 1, inplace = True)"
   ]
  },
  {
   "cell_type": "code",
   "execution_count": 9,
   "id": "6c14ddb7",
   "metadata": {},
   "outputs": [
    {
     "data": {
      "text/plain": [
       "Text(0.5, 0, 'Disease Severity Score')"
      ]
     },
     "execution_count": 9,
     "metadata": {},
     "output_type": "execute_result"
    },
    {
     "data": {
      "image/png": "[encoded data removed]",
      "text/plain": [
       "<Figure size 800x600 with 1 Axes>"
      ]
     },
     "metadata": {
      "needs_background": "light"
     },
     "output_type": "display_data"
    }
   ],
   "source": [
    "import matplotlib.pyplot as plt \n",
    "import seaborn as sns\n",
    "\n",
    "plt.figure(figsize=(8, 6), dpi=100)\n",
    "plt.title('Boxplot of Disease Severity Score', fontsize='large', fontweight='bold')\n",
    "sns.boxplot(data = df, x = 'sum_score')\n",
    "plt.xlabel('Disease Severity Score')"
   ]
  },
  {
   "cell_type": "code",
   "execution_count": 6,
   "id": "7a1dbed5",
   "metadata": {},
   "outputs": [],
   "source": [
    "visit_month = df.pivot_table(index = ['visit_month', 'On'], values = ['sum_score'], aggfunc = np.mean).reset_index()"
   ]
  },
  {
   "cell_type": "code",
   "execution_count": 8,
   "id": "5a282c27",
   "metadata": {},
   "outputs": [
    {
     "data": {
      "text/plain": [
       "[<matplotlib.lines.Line2D at 0x7feecc98fa90>]"
      ]
     },
     "execution_count": 8,
     "metadata": {},
     "output_type": "execute_result"
    },
    {
     "data": {
      "image/png": "[encoded data removed]",
      "text/plain": [
       "<Figure size 432x288 with 1 Axes>"
      ]
     },
     "metadata": {
      "needs_background": "light"
     },
     "output_type": "display_data"
    }
   ],
   "source": [
    "nodrug = visit_month[visit_month['On'] == 0]\n",
    "plt.plot(nodrug['visit_month'], nodrug['sum_score'])"
   ]
  },
  {
   "cell_type": "markdown",
   "id": "c0e60634",
   "metadata": {},
   "source": [
    "* There is seasonality in parkinsons as well"
   ]
  },
  {
   "cell_type": "code",
   "execution_count": 9,
   "id": "521cfe86",
   "metadata": {},
   "outputs": [
    {
     "data": {
      "text/plain": [
       "[<matplotlib.lines.Line2D at 0x7feeccaa7760>]"
      ]
     },
     "execution_count": 9,
     "metadata": {},
     "output_type": "execute_result"
    },
    {
     "data": {
      "image/png": "[encoded data removed]",
      "text/plain": [
       "<Figure size 432x288 with 1 Axes>"
      ]
     },
     "metadata": {
      "needs_background": "light"
     },
     "output_type": "display_data"
    }
   ],
   "source": [
    "drug = visit_month[visit_month['On'] == 1]\n",
    "plt.plot(drug['visit_month'], drug['sum_score'])"
   ]
  }
 ],
 "metadata": {
  "kernelspec": {
   "display_name": "Python 3 (ipykernel)",
   "language": "python",
   "name": "python3"
  },
  "language_info": {
   "codemirror_mode": {
    "name": "ipython",
    "version": 3
   },
   "file_extension": ".py",
   "mimetype": "text/x-python",
   "name": "python",
   "nbconvert_exporter": "python",
   "pygments_lexer": "ipython3",
   "version": "3.9.12"
  }
 },
 "nbformat": 4,
 "nbformat_minor": 5
}
